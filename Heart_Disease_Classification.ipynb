{
  "nbformat": 4,
  "nbformat_minor": 0,
  "metadata": {
    "colab": {
      "provenance": []
    },
    "kernelspec": {
      "name": "python3",
      "display_name": "Python 3"
    },
    "language_info": {
      "name": "python"
    }
  },
  "cells": [
    {
      "cell_type": "markdown",
      "source": [
        "## Heart Disease Classification\n",
        "dataset: https://archive.ics.uci.edu/dataset/45/heart+disease"
      ],
      "metadata": {
        "id": "3JDuZfcnL18H"
      }
    },
    {
      "cell_type": "code",
      "source": [
        "pip install ucimlrepo"
      ],
      "metadata": {
        "colab": {
          "base_uri": "https://localhost:8080/"
        },
        "id": "oUmEmOOKDfwG",
        "outputId": "c81b1f42-4dab-4493-fd39-e35985eac66b"
      },
      "execution_count": 1,
      "outputs": [
        {
          "output_type": "stream",
          "name": "stdout",
          "text": [
            "Collecting ucimlrepo\n",
            "  Downloading ucimlrepo-0.0.3-py3-none-any.whl (7.0 kB)\n",
            "Installing collected packages: ucimlrepo\n",
            "Successfully installed ucimlrepo-0.0.3\n"
          ]
        }
      ]
    },
    {
      "cell_type": "code",
      "source": [
        "import numpy as np\n",
        "from sklearn.linear_model import LogisticRegression\n",
        "from sklearn import tree\n",
        "import seaborn as sns\n",
        "from sklearn.model_selection import train_test_split\n",
        "from sklearn.metrics import accuracy_score, recall_score, f1_score\n",
        "import tensorflow\n",
        "import keras\n",
        "from tensorflow.keras import layers\n",
        "from tensorflow.keras import Sequential\n",
        "from tensorflow.keras.layers import Conv2D, MaxPool2D, Flatten, Dense, Dropout, BatchNormalization\n",
        "from tensorflow.keras.optimizers import Adam\n"
      ],
      "metadata": {
        "id": "H5vF93LbTaah"
      },
      "execution_count": 48,
      "outputs": []
    },
    {
      "cell_type": "code",
      "source": [
        "from ucimlrepo import fetch_ucirepo\n",
        "\n",
        "# fetch dataset\n",
        "heart_disease = fetch_ucirepo(id=45)\n",
        "\n",
        "# data (as pandas dataframes)\n",
        "features = heart_disease.data.features\n",
        "classification = heart_disease.data.targets\n",
        "\n",
        "# metadata\n",
        "print(heart_disease.metadata)\n",
        "\n",
        "# variable information\n",
        "print(heart_disease.variables)\n"
      ],
      "metadata": {
        "colab": {
          "base_uri": "https://localhost:8080/"
        },
        "id": "_bx9sB65EQ5X",
        "outputId": "44ae5b83-e179-4742-8376-e8ada9f7949a"
      },
      "execution_count": 49,
      "outputs": [
        {
          "output_type": "stream",
          "name": "stdout",
          "text": [
            "{'uci_id': 45, 'name': 'Heart Disease', 'repository_url': 'https://archive.ics.uci.edu/dataset/45/heart+disease', 'data_url': 'https://archive.ics.uci.edu/static/public/45/data.csv', 'abstract': '4 databases: Cleveland, Hungary, Switzerland, and the VA Long Beach', 'area': 'Health and Medicine', 'tasks': ['Classification'], 'characteristics': ['Multivariate'], 'num_instances': 303, 'num_features': 13, 'feature_types': ['Categorical', 'Integer', 'Real'], 'demographics': ['Age', 'Sex'], 'target_col': ['num'], 'index_col': None, 'has_missing_values': 'yes', 'missing_values_symbol': 'NaN', 'year_of_dataset_creation': 1989, 'last_updated': 'Fri Nov 03 2023', 'dataset_doi': '10.24432/C52P4X', 'creators': ['Andras Janosi', 'William Steinbrunn', 'Matthias Pfisterer', 'Robert Detrano'], 'intro_paper': {'title': 'International application of a new probability algorithm for the diagnosis of coronary artery disease.', 'authors': 'R. Detrano, A. Jánosi, W. Steinbrunn, M. Pfisterer, J. Schmid, S. Sandhu, K. Guppy, S. Lee, V. Froelicher', 'published_in': 'American Journal of Cardiology', 'year': 1989, 'url': 'https://www.semanticscholar.org/paper/a7d714f8f87bfc41351eb5ae1e5472f0ebbe0574', 'doi': None}, 'additional_info': {'summary': 'This database contains 76 attributes, but all published experiments refer to using a subset of 14 of them.  In particular, the Cleveland database is the only one that has been used by ML researchers to date.  The \"goal\" field refers to the presence of heart disease in the patient.  It is integer valued from 0 (no presence) to 4. Experiments with the Cleveland database have concentrated on simply attempting to distinguish presence (values 1,2,3,4) from absence (value 0).  \\n   \\nThe names and social security numbers of the patients were recently removed from the database, replaced with dummy values.\\n\\nOne file has been \"processed\", that one containing the Cleveland database.  All four unprocessed files also exist in this directory.\\n\\nTo see Test Costs (donated by Peter Turney), please see the folder \"Costs\" ', 'purpose': None, 'funded_by': None, 'instances_represent': None, 'recommended_data_splits': None, 'sensitive_data': None, 'preprocessing_description': None, 'variable_info': 'Only 14 attributes used:\\r\\n      1. #3  (age)       \\r\\n      2. #4  (sex)       \\r\\n      3. #9  (cp)        \\r\\n      4. #10 (trestbps)  \\r\\n      5. #12 (chol)      \\r\\n      6. #16 (fbs)       \\r\\n      7. #19 (restecg)   \\r\\n      8. #32 (thalach)   \\r\\n      9. #38 (exang)     \\r\\n      10. #40 (oldpeak)   \\r\\n      11. #41 (slope)     \\r\\n      12. #44 (ca)        \\r\\n      13. #51 (thal)      \\r\\n      14. #58 (num)       (the predicted attribute)\\r\\n\\r\\nComplete attribute documentation:\\r\\n      1 id: patient identification number\\r\\n      2 ccf: social security number (I replaced this with a dummy value of 0)\\r\\n      3 age: age in years\\r\\n      4 sex: sex (1 = male; 0 = female)\\r\\n      5 painloc: chest pain location (1 = substernal; 0 = otherwise)\\r\\n      6 painexer (1 = provoked by exertion; 0 = otherwise)\\r\\n      7 relrest (1 = relieved after rest; 0 = otherwise)\\r\\n      8 pncaden (sum of 5, 6, and 7)\\r\\n      9 cp: chest pain type\\r\\n        -- Value 1: typical angina\\r\\n        -- Value 2: atypical angina\\r\\n        -- Value 3: non-anginal pain\\r\\n        -- Value 4: asymptomatic\\r\\n     10 trestbps: resting blood pressure (in mm Hg on admission to the hospital)\\r\\n     11 htn\\r\\n     12 chol: serum cholestoral in mg/dl\\r\\n     13 smoke: I believe this is 1 = yes; 0 = no (is or is not a smoker)\\r\\n     14 cigs (cigarettes per day)\\r\\n     15 years (number of years as a smoker)\\r\\n     16 fbs: (fasting blood sugar > 120 mg/dl)  (1 = true; 0 = false)\\r\\n     17 dm (1 = history of diabetes; 0 = no such history)\\r\\n     18 famhist: family history of coronary artery disease (1 = yes; 0 = no)\\r\\n     19 restecg: resting electrocardiographic results\\r\\n        -- Value 0: normal\\r\\n        -- Value 1: having ST-T wave abnormality (T wave inversions and/or ST elevation or depression of > 0.05 mV)\\r\\n        -- Value 2: showing probable or definite left ventricular hypertrophy by Estes\\' criteria\\r\\n     20 ekgmo (month of exercise ECG reading)\\r\\n     21 ekgday(day of exercise ECG reading)\\r\\n     22 ekgyr (year of exercise ECG reading)\\r\\n     23 dig (digitalis used furing exercise ECG: 1 = yes; 0 = no)\\r\\n     24 prop (Beta blocker used during exercise ECG: 1 = yes; 0 = no)\\r\\n     25 nitr (nitrates used during exercise ECG: 1 = yes; 0 = no)\\r\\n     26 pro (calcium channel blocker used during exercise ECG: 1 = yes; 0 = no)\\r\\n     27 diuretic (diuretic used used during exercise ECG: 1 = yes; 0 = no)\\r\\n     28 proto: exercise protocol\\r\\n          1 = Bruce     \\r\\n          2 = Kottus\\r\\n          3 = McHenry\\r\\n          4 = fast Balke\\r\\n          5 = Balke\\r\\n          6 = Noughton \\r\\n          7 = bike 150 kpa min/min  (Not sure if \"kpa min/min\" is what was written!)\\r\\n          8 = bike 125 kpa min/min  \\r\\n          9 = bike 100 kpa min/min\\r\\n         10 = bike 75 kpa min/min\\r\\n         11 = bike 50 kpa min/min\\r\\n         12 = arm ergometer\\r\\n     29 thaldur: duration of exercise test in minutes\\r\\n     30 thaltime: time when ST measure depression was noted\\r\\n     31 met: mets achieved\\r\\n     32 thalach: maximum heart rate achieved\\r\\n     33 thalrest: resting heart rate\\r\\n     34 tpeakbps: peak exercise blood pressure (first of 2 parts)\\r\\n     35 tpeakbpd: peak exercise blood pressure (second of 2 parts)\\r\\n     36 dummy\\r\\n     37 trestbpd: resting blood pressure\\r\\n     38 exang: exercise induced angina (1 = yes; 0 = no)\\r\\n     39 xhypo: (1 = yes; 0 = no)\\r\\n     40 oldpeak = ST depression induced by exercise relative to rest\\r\\n     41 slope: the slope of the peak exercise ST segment\\r\\n        -- Value 1: upsloping\\r\\n        -- Value 2: flat\\r\\n        -- Value 3: downsloping\\r\\n     42 rldv5: height at rest\\r\\n     43 rldv5e: height at peak exercise\\r\\n     44 ca: number of major vessels (0-3) colored by flourosopy\\r\\n     45 restckm: irrelevant\\r\\n     46 exerckm: irrelevant\\r\\n     47 restef: rest raidonuclid (sp?) ejection fraction\\r\\n     48 restwm: rest wall (sp?) motion abnormality\\r\\n        0 = none\\r\\n        1 = mild or moderate\\r\\n        2 = moderate or severe\\r\\n        3 = akinesis or dyskmem (sp?)\\r\\n     49 exeref: exercise radinalid (sp?) ejection fraction\\r\\n     50 exerwm: exercise wall (sp?) motion \\r\\n     51 thal: 3 = normal; 6 = fixed defect; 7 = reversable defect\\r\\n     52 thalsev: not used\\r\\n     53 thalpul: not used\\r\\n     54 earlobe: not used\\r\\n     55 cmo: month of cardiac cath (sp?)  (perhaps \"call\")\\r\\n     56 cday: day of cardiac cath (sp?)\\r\\n     57 cyr: year of cardiac cath (sp?)\\r\\n     58 num: diagnosis of heart disease (angiographic disease status)\\r\\n        -- Value 0: < 50% diameter narrowing\\r\\n        -- Value 1: > 50% diameter narrowing\\r\\n        (in any major vessel: attributes 59 through 68 are vessels)\\r\\n     59 lmt\\r\\n     60 ladprox\\r\\n     61 laddist\\r\\n     62 diag\\r\\n     63 cxmain\\r\\n     64 ramus\\r\\n     65 om1\\r\\n     66 om2\\r\\n     67 rcaprox\\r\\n     68 rcadist\\r\\n     69 lvx1: not used\\r\\n     70 lvx2: not used\\r\\n     71 lvx3: not used\\r\\n     72 lvx4: not used\\r\\n     73 lvf: not used\\r\\n     74 cathef: not used\\r\\n     75 junk: not used\\r\\n     76 name: last name of patient  (I replaced this with the dummy string \"name\")', 'citation': None}}\n",
            "        name     role         type demographic  \\\n",
            "0        age  Feature      Integer         Age   \n",
            "1        sex  Feature  Categorical         Sex   \n",
            "2         cp  Feature  Categorical        None   \n",
            "3   trestbps  Feature      Integer        None   \n",
            "4       chol  Feature      Integer        None   \n",
            "5        fbs  Feature  Categorical        None   \n",
            "6    restecg  Feature  Categorical        None   \n",
            "7    thalach  Feature      Integer        None   \n",
            "8      exang  Feature  Categorical        None   \n",
            "9    oldpeak  Feature      Integer        None   \n",
            "10     slope  Feature  Categorical        None   \n",
            "11        ca  Feature      Integer        None   \n",
            "12      thal  Feature  Categorical        None   \n",
            "13       num   Target      Integer        None   \n",
            "\n",
            "                                          description  units missing_values  \n",
            "0                                                None  years             no  \n",
            "1                                                None   None             no  \n",
            "2                                                None   None             no  \n",
            "3   resting blood pressure (on admission to the ho...  mm Hg             no  \n",
            "4                                   serum cholestoral  mg/dl             no  \n",
            "5                     fasting blood sugar > 120 mg/dl   None             no  \n",
            "6                                                None   None             no  \n",
            "7                         maximum heart rate achieved   None             no  \n",
            "8                             exercise induced angina   None             no  \n",
            "9   ST depression induced by exercise relative to ...   None             no  \n",
            "10                                               None   None             no  \n",
            "11  number of major vessels (0-3) colored by flour...   None            yes  \n",
            "12                                               None   None            yes  \n",
            "13                         diagnosis of heart disease   None             no  \n"
          ]
        }
      ]
    },
    {
      "cell_type": "markdown",
      "source": [
        "## Data Preprocessing"
      ],
      "metadata": {
        "id": "-qfQwHT7LWvx"
      }
    },
    {
      "cell_type": "code",
      "source": [
        "print(features.head())\n",
        "print(classification.head())"
      ],
      "metadata": {
        "colab": {
          "base_uri": "https://localhost:8080/"
        },
        "id": "fS0QS7rTEb1m",
        "outputId": "1d3d3d11-7f36-4964-da6b-32eef3139e33"
      },
      "execution_count": 50,
      "outputs": [
        {
          "output_type": "stream",
          "name": "stdout",
          "text": [
            "   age  sex  cp  trestbps  chol  fbs  restecg  thalach  exang  oldpeak  slope  \\\n",
            "0   63    1   1       145   233    1        2      150      0      2.3      3   \n",
            "1   67    1   4       160   286    0        2      108      1      1.5      2   \n",
            "2   67    1   4       120   229    0        2      129      1      2.6      2   \n",
            "3   37    1   3       130   250    0        0      187      0      3.5      3   \n",
            "4   41    0   2       130   204    0        2      172      0      1.4      1   \n",
            "\n",
            "    ca  thal  \n",
            "0  0.0   6.0  \n",
            "1  3.0   3.0  \n",
            "2  2.0   7.0  \n",
            "3  0.0   3.0  \n",
            "4  0.0   3.0  \n",
            "   num\n",
            "0    0\n",
            "1    2\n",
            "2    1\n",
            "3    0\n",
            "4    0\n"
          ]
        }
      ]
    },
    {
      "cell_type": "code",
      "source": [
        "#Converting to a binary classification problem\n",
        "\n",
        "classification = classification.replace(2, 1)\n",
        "print(classification.head())"
      ],
      "metadata": {
        "colab": {
          "base_uri": "https://localhost:8080/"
        },
        "id": "w-uOD40_Laph",
        "outputId": "98125bb9-cbbb-4b7a-c294-2a019fa0e139"
      },
      "execution_count": 51,
      "outputs": [
        {
          "output_type": "stream",
          "name": "stdout",
          "text": [
            "   num\n",
            "0    0\n",
            "1    1\n",
            "2    1\n",
            "3    0\n",
            "4    0\n"
          ]
        }
      ]
    },
    {
      "cell_type": "code",
      "source": [
        "#Check for missing data\n",
        "features.isnull().sum()"
      ],
      "metadata": {
        "colab": {
          "base_uri": "https://localhost:8080/"
        },
        "id": "ytZFWya_MVlp",
        "outputId": "c1829873-252c-4e4a-c080-96b1d6b06dd6"
      },
      "execution_count": 52,
      "outputs": [
        {
          "output_type": "execute_result",
          "data": {
            "text/plain": [
              "age         0\n",
              "sex         0\n",
              "cp          0\n",
              "trestbps    0\n",
              "chol        0\n",
              "fbs         0\n",
              "restecg     0\n",
              "thalach     0\n",
              "exang       0\n",
              "oldpeak     0\n",
              "slope       0\n",
              "ca          4\n",
              "thal        2\n",
              "dtype: int64"
            ]
          },
          "metadata": {},
          "execution_count": 52
        }
      ]
    },
    {
      "cell_type": "code",
      "source": [
        "null_list = np.where(features.isnull())[0]\n",
        "print(null_list)"
      ],
      "metadata": {
        "colab": {
          "base_uri": "https://localhost:8080/"
        },
        "id": "esWfgr6LVbDy",
        "outputId": "26999bf6-0da6-47ea-e639-9270c8434ead"
      },
      "execution_count": 53,
      "outputs": [
        {
          "output_type": "stream",
          "name": "stdout",
          "text": [
            "[ 87 166 192 266 287 302]\n"
          ]
        }
      ]
    },
    {
      "cell_type": "code",
      "source": [
        "#Replace missing data\n",
        "features = features.dropna()\n",
        "classification.drop(index=null_list, inplace=True)\n",
        "print(len(classification))\n",
        "features.isnull().sum()"
      ],
      "metadata": {
        "colab": {
          "base_uri": "https://localhost:8080/"
        },
        "id": "ihDRB38rM773",
        "outputId": "c575ceb7-64af-41dc-f8c4-5985951aced4"
      },
      "execution_count": 54,
      "outputs": [
        {
          "output_type": "stream",
          "name": "stdout",
          "text": [
            "297\n"
          ]
        },
        {
          "output_type": "execute_result",
          "data": {
            "text/plain": [
              "age         0\n",
              "sex         0\n",
              "cp          0\n",
              "trestbps    0\n",
              "chol        0\n",
              "fbs         0\n",
              "restecg     0\n",
              "thalach     0\n",
              "exang       0\n",
              "oldpeak     0\n",
              "slope       0\n",
              "ca          0\n",
              "thal        0\n",
              "dtype: int64"
            ]
          },
          "metadata": {},
          "execution_count": 54
        }
      ]
    },
    {
      "cell_type": "markdown",
      "source": [
        "## Logistic Regression"
      ],
      "metadata": {
        "id": "osW1p8SgUW2V"
      }
    },
    {
      "cell_type": "code",
      "source": [
        "X_train, X_test, y_train, y_test = train_test_split(features, classification, test_size=0.1, random_state=24)\n",
        "\n",
        "model = LogisticRegression(max_iter=5000, solver='lbfgs')\n",
        "\n",
        "train_acc = model.fit(X_train, y_train.to_numpy().flatten())\n",
        "test_acc = model.score(X_test, y_test)\n",
        "\n",
        "print(f'test acc - : {test_acc:.3f}')"
      ],
      "metadata": {
        "colab": {
          "base_uri": "https://localhost:8080/"
        },
        "id": "JhKydRJeUSQq",
        "outputId": "a5dd5c66-0f5f-4d72-8a62-ea7f0e7bd494"
      },
      "execution_count": 55,
      "outputs": [
        {
          "output_type": "stream",
          "name": "stdout",
          "text": [
            "test acc - : 0.667\n"
          ]
        },
        {
          "output_type": "stream",
          "name": "stderr",
          "text": [
            "/usr/local/lib/python3.10/dist-packages/sklearn/linear_model/_logistic.py:458: ConvergenceWarning: lbfgs failed to converge (status=1):\n",
            "STOP: TOTAL NO. of ITERATIONS REACHED LIMIT.\n",
            "\n",
            "Increase the number of iterations (max_iter) or scale the data as shown in:\n",
            "    https://scikit-learn.org/stable/modules/preprocessing.html\n",
            "Please also refer to the documentation for alternative solver options:\n",
            "    https://scikit-learn.org/stable/modules/linear_model.html#logistic-regression\n",
            "  n_iter_i = _check_optimize_result(\n"
          ]
        }
      ]
    },
    {
      "cell_type": "markdown",
      "source": [
        "## Decision Trees\n"
      ],
      "metadata": {
        "id": "L1SLgDnrW4cf"
      }
    },
    {
      "cell_type": "code",
      "source": [
        "X_train, X_test, y_train, y_test = train_test_split(features, classification, test_size=0.1, random_state=24)\n",
        "decisionTree = tree.DecisionTreeClassifier()\n",
        "decisionTree.fit(X_train, y_train)"
      ],
      "metadata": {
        "id": "aa5-QpOCF_uH",
        "colab": {
          "base_uri": "https://localhost:8080/",
          "height": 74
        },
        "outputId": "f8e788b8-15f9-4a1e-c569-12dda3360e0a"
      },
      "execution_count": 56,
      "outputs": [
        {
          "output_type": "execute_result",
          "data": {
            "text/plain": [
              "DecisionTreeClassifier()"
            ],
            "text/html": [
              "<style>#sk-container-id-4 {color: black;background-color: white;}#sk-container-id-4 pre{padding: 0;}#sk-container-id-4 div.sk-toggleable {background-color: white;}#sk-container-id-4 label.sk-toggleable__label {cursor: pointer;display: block;width: 100%;margin-bottom: 0;padding: 0.3em;box-sizing: border-box;text-align: center;}#sk-container-id-4 label.sk-toggleable__label-arrow:before {content: \"▸\";float: left;margin-right: 0.25em;color: #696969;}#sk-container-id-4 label.sk-toggleable__label-arrow:hover:before {color: black;}#sk-container-id-4 div.sk-estimator:hover label.sk-toggleable__label-arrow:before {color: black;}#sk-container-id-4 div.sk-toggleable__content {max-height: 0;max-width: 0;overflow: hidden;text-align: left;background-color: #f0f8ff;}#sk-container-id-4 div.sk-toggleable__content pre {margin: 0.2em;color: black;border-radius: 0.25em;background-color: #f0f8ff;}#sk-container-id-4 input.sk-toggleable__control:checked~div.sk-toggleable__content {max-height: 200px;max-width: 100%;overflow: auto;}#sk-container-id-4 input.sk-toggleable__control:checked~label.sk-toggleable__label-arrow:before {content: \"▾\";}#sk-container-id-4 div.sk-estimator input.sk-toggleable__control:checked~label.sk-toggleable__label {background-color: #d4ebff;}#sk-container-id-4 div.sk-label input.sk-toggleable__control:checked~label.sk-toggleable__label {background-color: #d4ebff;}#sk-container-id-4 input.sk-hidden--visually {border: 0;clip: rect(1px 1px 1px 1px);clip: rect(1px, 1px, 1px, 1px);height: 1px;margin: -1px;overflow: hidden;padding: 0;position: absolute;width: 1px;}#sk-container-id-4 div.sk-estimator {font-family: monospace;background-color: #f0f8ff;border: 1px dotted black;border-radius: 0.25em;box-sizing: border-box;margin-bottom: 0.5em;}#sk-container-id-4 div.sk-estimator:hover {background-color: #d4ebff;}#sk-container-id-4 div.sk-parallel-item::after {content: \"\";width: 100%;border-bottom: 1px solid gray;flex-grow: 1;}#sk-container-id-4 div.sk-label:hover label.sk-toggleable__label {background-color: #d4ebff;}#sk-container-id-4 div.sk-serial::before {content: \"\";position: absolute;border-left: 1px solid gray;box-sizing: border-box;top: 0;bottom: 0;left: 50%;z-index: 0;}#sk-container-id-4 div.sk-serial {display: flex;flex-direction: column;align-items: center;background-color: white;padding-right: 0.2em;padding-left: 0.2em;position: relative;}#sk-container-id-4 div.sk-item {position: relative;z-index: 1;}#sk-container-id-4 div.sk-parallel {display: flex;align-items: stretch;justify-content: center;background-color: white;position: relative;}#sk-container-id-4 div.sk-item::before, #sk-container-id-4 div.sk-parallel-item::before {content: \"\";position: absolute;border-left: 1px solid gray;box-sizing: border-box;top: 0;bottom: 0;left: 50%;z-index: -1;}#sk-container-id-4 div.sk-parallel-item {display: flex;flex-direction: column;z-index: 1;position: relative;background-color: white;}#sk-container-id-4 div.sk-parallel-item:first-child::after {align-self: flex-end;width: 50%;}#sk-container-id-4 div.sk-parallel-item:last-child::after {align-self: flex-start;width: 50%;}#sk-container-id-4 div.sk-parallel-item:only-child::after {width: 0;}#sk-container-id-4 div.sk-dashed-wrapped {border: 1px dashed gray;margin: 0 0.4em 0.5em 0.4em;box-sizing: border-box;padding-bottom: 0.4em;background-color: white;}#sk-container-id-4 div.sk-label label {font-family: monospace;font-weight: bold;display: inline-block;line-height: 1.2em;}#sk-container-id-4 div.sk-label-container {text-align: center;}#sk-container-id-4 div.sk-container {/* jupyter's `normalize.less` sets `[hidden] { display: none; }` but bootstrap.min.css set `[hidden] { display: none !important; }` so we also need the `!important` here to be able to override the default hidden behavior on the sphinx rendered scikit-learn.org. See: https://github.com/scikit-learn/scikit-learn/issues/21755 */display: inline-block !important;position: relative;}#sk-container-id-4 div.sk-text-repr-fallback {display: none;}</style><div id=\"sk-container-id-4\" class=\"sk-top-container\"><div class=\"sk-text-repr-fallback\"><pre>DecisionTreeClassifier()</pre><b>In a Jupyter environment, please rerun this cell to show the HTML representation or trust the notebook. <br />On GitHub, the HTML representation is unable to render, please try loading this page with nbviewer.org.</b></div><div class=\"sk-container\" hidden><div class=\"sk-item\"><div class=\"sk-estimator sk-toggleable\"><input class=\"sk-toggleable__control sk-hidden--visually\" id=\"sk-estimator-id-4\" type=\"checkbox\" checked><label for=\"sk-estimator-id-4\" class=\"sk-toggleable__label sk-toggleable__label-arrow\">DecisionTreeClassifier</label><div class=\"sk-toggleable__content\"><pre>DecisionTreeClassifier()</pre></div></div></div></div></div>"
            ]
          },
          "metadata": {},
          "execution_count": 56
        }
      ]
    },
    {
      "cell_type": "code",
      "source": [
        "tree.plot_tree(decisionTree)"
      ],
      "metadata": {
        "colab": {
          "base_uri": "https://localhost:8080/",
          "height": 1000
        },
        "id": "feMfWZldhzKZ",
        "outputId": "5aa3995e-5805-4ec8-a6c5-2249aa32dc54"
      },
      "execution_count": 57,
      "outputs": [
        {
          "output_type": "execute_result",
          "data": {
            "text/plain": [
              "[Text(0.44803370786516855, 0.9583333333333334, 'x[12] <= 4.5\\ngini = 0.596\\nsamples = 267\\nvalue = [147, 78, 31, 11]'),\n",
              " Text(0.2148876404494382, 0.875, 'x[11] <= 0.5\\ngini = 0.37\\nsamples = 150\\nvalue = [116, 26, 6, 2]'),\n",
              " Text(0.10112359550561797, 0.7916666666666666, 'x[9] <= 2.8\\ngini = 0.191\\nsamples = 103\\nvalue = [92, 11, 0, 0]'),\n",
              " Text(0.06741573033707865, 0.7083333333333334, 'x[0] <= 57.5\\ngini = 0.149\\nsamples = 99\\nvalue = [91, 8, 0, 0]'),\n",
              " Text(0.033707865168539325, 0.625, 'x[3] <= 109.0\\ngini = 0.029\\nsamples = 68\\nvalue = [67, 1, 0, 0]'),\n",
              " Text(0.02247191011235955, 0.5416666666666666, 'x[1] <= 0.5\\ngini = 0.32\\nsamples = 5\\nvalue = [4, 1, 0, 0]'),\n",
              " Text(0.011235955056179775, 0.4583333333333333, 'gini = 0.0\\nsamples = 4\\nvalue = [4, 0, 0, 0]'),\n",
              " Text(0.033707865168539325, 0.4583333333333333, 'gini = 0.0\\nsamples = 1\\nvalue = [0, 1, 0, 0]'),\n",
              " Text(0.0449438202247191, 0.5416666666666666, 'gini = 0.0\\nsamples = 63\\nvalue = [63, 0, 0, 0]'),\n",
              " Text(0.10112359550561797, 0.625, 'x[4] <= 243.5\\ngini = 0.35\\nsamples = 31\\nvalue = [24, 7, 0, 0]'),\n",
              " Text(0.06741573033707865, 0.5416666666666666, 'x[8] <= 0.5\\ngini = 0.124\\nsamples = 15\\nvalue = [14, 1, 0, 0]'),\n",
              " Text(0.056179775280898875, 0.4583333333333333, 'gini = 0.0\\nsamples = 11\\nvalue = [11, 0, 0, 0]'),\n",
              " Text(0.07865168539325842, 0.4583333333333333, 'x[1] <= 0.5\\ngini = 0.375\\nsamples = 4\\nvalue = [3, 1, 0, 0]'),\n",
              " Text(0.06741573033707865, 0.375, 'gini = 0.0\\nsamples = 1\\nvalue = [0, 1, 0, 0]'),\n",
              " Text(0.0898876404494382, 0.375, 'gini = 0.0\\nsamples = 3\\nvalue = [3, 0, 0, 0]'),\n",
              " Text(0.1348314606741573, 0.5416666666666666, 'x[9] <= 1.3\\ngini = 0.469\\nsamples = 16\\nvalue = [10, 6, 0, 0]'),\n",
              " Text(0.12359550561797752, 0.4583333333333333, 'x[9] <= 0.2\\ngini = 0.408\\nsamples = 14\\nvalue = [10, 4, 0, 0]'),\n",
              " Text(0.11235955056179775, 0.375, 'x[7] <= 170.5\\ngini = 0.5\\nsamples = 8\\nvalue = [4, 4, 0, 0]'),\n",
              " Text(0.10112359550561797, 0.2916666666666667, 'x[0] <= 62.5\\ngini = 0.444\\nsamples = 6\\nvalue = [2, 4, 0, 0]'),\n",
              " Text(0.0898876404494382, 0.20833333333333334, 'gini = 0.0\\nsamples = 3\\nvalue = [0, 3, 0, 0]'),\n",
              " Text(0.11235955056179775, 0.20833333333333334, 'x[7] <= 156.0\\ngini = 0.444\\nsamples = 3\\nvalue = [2, 1, 0, 0]'),\n",
              " Text(0.10112359550561797, 0.125, 'gini = 0.0\\nsamples = 2\\nvalue = [2, 0, 0, 0]'),\n",
              " Text(0.12359550561797752, 0.125, 'gini = 0.0\\nsamples = 1\\nvalue = [0, 1, 0, 0]'),\n",
              " Text(0.12359550561797752, 0.2916666666666667, 'gini = 0.0\\nsamples = 2\\nvalue = [2, 0, 0, 0]'),\n",
              " Text(0.1348314606741573, 0.375, 'gini = 0.0\\nsamples = 6\\nvalue = [6, 0, 0, 0]'),\n",
              " Text(0.14606741573033707, 0.4583333333333333, 'gini = 0.0\\nsamples = 2\\nvalue = [0, 2, 0, 0]'),\n",
              " Text(0.1348314606741573, 0.7083333333333334, 'x[0] <= 45.5\\ngini = 0.375\\nsamples = 4\\nvalue = [1, 3, 0, 0]'),\n",
              " Text(0.12359550561797752, 0.625, 'gini = 0.0\\nsamples = 1\\nvalue = [1, 0, 0, 0]'),\n",
              " Text(0.14606741573033707, 0.625, 'gini = 0.0\\nsamples = 3\\nvalue = [0, 3, 0, 0]'),\n",
              " Text(0.32865168539325845, 0.7916666666666666, 'x[2] <= 3.5\\ngini = 0.619\\nsamples = 47\\nvalue = [24, 15, 6, 2]'),\n",
              " Text(0.24719101123595505, 0.7083333333333334, 'x[4] <= 237.5\\ngini = 0.38\\nsamples = 29\\nvalue = [22, 6, 1, 0]'),\n",
              " Text(0.20224719101123595, 0.625, 'x[0] <= 55.5\\ngini = 0.496\\nsamples = 11\\nvalue = [6, 5, 0, 0]'),\n",
              " Text(0.1797752808988764, 0.5416666666666666, 'x[4] <= 173.5\\ngini = 0.32\\nsamples = 5\\nvalue = [4, 1, 0, 0]'),\n",
              " Text(0.16853932584269662, 0.4583333333333333, 'gini = 0.0\\nsamples = 1\\nvalue = [0, 1, 0, 0]'),\n",
              " Text(0.19101123595505617, 0.4583333333333333, 'gini = 0.0\\nsamples = 4\\nvalue = [4, 0, 0, 0]'),\n",
              " Text(0.2247191011235955, 0.5416666666666666, 'x[0] <= 62.0\\ngini = 0.444\\nsamples = 6\\nvalue = [2, 4, 0, 0]'),\n",
              " Text(0.21348314606741572, 0.4583333333333333, 'gini = 0.0\\nsamples = 4\\nvalue = [0, 4, 0, 0]'),\n",
              " Text(0.23595505617977527, 0.4583333333333333, 'gini = 0.0\\nsamples = 2\\nvalue = [2, 0, 0, 0]'),\n",
              " Text(0.29213483146067415, 0.625, 'x[4] <= 318.5\\ngini = 0.204\\nsamples = 18\\nvalue = [16, 1, 1, 0]'),\n",
              " Text(0.2696629213483146, 0.5416666666666666, 'x[7] <= 173.5\\ngini = 0.117\\nsamples = 16\\nvalue = [15, 1, 0, 0]'),\n",
              " Text(0.25842696629213485, 0.4583333333333333, 'gini = 0.0\\nsamples = 13\\nvalue = [13, 0, 0, 0]'),\n",
              " Text(0.2808988764044944, 0.4583333333333333, 'x[9] <= 1.1\\ngini = 0.444\\nsamples = 3\\nvalue = [2, 1, 0, 0]'),\n",
              " Text(0.2696629213483146, 0.375, 'gini = 0.0\\nsamples = 2\\nvalue = [2, 0, 0, 0]'),\n",
              " Text(0.29213483146067415, 0.375, 'gini = 0.0\\nsamples = 1\\nvalue = [0, 1, 0, 0]'),\n",
              " Text(0.3146067415730337, 0.5416666666666666, 'x[9] <= 0.4\\ngini = 0.5\\nsamples = 2\\nvalue = [1, 0, 1, 0]'),\n",
              " Text(0.30337078651685395, 0.4583333333333333, 'gini = 0.0\\nsamples = 1\\nvalue = [0, 0, 1, 0]'),\n",
              " Text(0.3258426966292135, 0.4583333333333333, 'gini = 0.0\\nsamples = 1\\nvalue = [1, 0, 0, 0]'),\n",
              " Text(0.4101123595505618, 0.7083333333333334, 'x[9] <= 2.1\\ngini = 0.648\\nsamples = 18\\nvalue = [2, 9, 5, 2]'),\n",
              " Text(0.38202247191011235, 0.625, 'x[4] <= 296.5\\ngini = 0.541\\nsamples = 14\\nvalue = [2, 9, 2, 1]'),\n",
              " Text(0.3595505617977528, 0.5416666666666666, 'x[4] <= 209.0\\ngini = 0.18\\nsamples = 10\\nvalue = [0, 9, 1, 0]'),\n",
              " Text(0.34831460674157305, 0.4583333333333333, 'x[0] <= 49.0\\ngini = 0.5\\nsamples = 2\\nvalue = [0, 1, 1, 0]'),\n",
              " Text(0.33707865168539325, 0.375, 'gini = 0.0\\nsamples = 1\\nvalue = [0, 1, 0, 0]'),\n",
              " Text(0.3595505617977528, 0.375, 'gini = 0.0\\nsamples = 1\\nvalue = [0, 0, 1, 0]'),\n",
              " Text(0.3707865168539326, 0.4583333333333333, 'gini = 0.0\\nsamples = 8\\nvalue = [0, 8, 0, 0]'),\n",
              " Text(0.4044943820224719, 0.5416666666666666, 'x[3] <= 126.5\\ngini = 0.625\\nsamples = 4\\nvalue = [2, 0, 1, 1]'),\n",
              " Text(0.39325842696629215, 0.4583333333333333, 'x[3] <= 112.5\\ngini = 0.5\\nsamples = 2\\nvalue = [0, 0, 1, 1]'),\n",
              " Text(0.38202247191011235, 0.375, 'gini = 0.0\\nsamples = 1\\nvalue = [0, 0, 1, 0]'),\n",
              " Text(0.4044943820224719, 0.375, 'gini = 0.0\\nsamples = 1\\nvalue = [0, 0, 0, 1]'),\n",
              " Text(0.4157303370786517, 0.4583333333333333, 'gini = 0.0\\nsamples = 2\\nvalue = [2, 0, 0, 0]'),\n",
              " Text(0.43820224719101125, 0.625, 'x[4] <= 206.0\\ngini = 0.375\\nsamples = 4\\nvalue = [0, 0, 3, 1]'),\n",
              " Text(0.42696629213483145, 0.5416666666666666, 'gini = 0.0\\nsamples = 1\\nvalue = [0, 0, 0, 1]'),\n",
              " Text(0.449438202247191, 0.5416666666666666, 'gini = 0.0\\nsamples = 3\\nvalue = [0, 0, 3, 0]'),\n",
              " Text(0.6811797752808989, 0.875, 'x[2] <= 3.5\\ngini = 0.681\\nsamples = 117\\nvalue = [31, 52, 25, 9]'),\n",
              " Text(0.5589887640449438, 0.7916666666666666, 'x[7] <= 144.0\\ngini = 0.611\\nsamples = 39\\nvalue = [21, 11, 5, 2]'),\n",
              " Text(0.5056179775280899, 0.7083333333333334, 'x[4] <= 266.5\\ngini = 0.568\\nsamples = 9\\nvalue = [1, 5, 3, 0]'),\n",
              " Text(0.48314606741573035, 0.625, 'x[4] <= 203.0\\ngini = 0.278\\nsamples = 6\\nvalue = [0, 5, 1, 0]'),\n",
              " Text(0.47191011235955055, 0.5416666666666666, 'gini = 0.0\\nsamples = 1\\nvalue = [0, 0, 1, 0]'),\n",
              " Text(0.4943820224719101, 0.5416666666666666, 'gini = 0.0\\nsamples = 5\\nvalue = [0, 5, 0, 0]'),\n",
              " Text(0.5280898876404494, 0.625, 'x[7] <= 122.5\\ngini = 0.444\\nsamples = 3\\nvalue = [1, 0, 2, 0]'),\n",
              " Text(0.5168539325842697, 0.5416666666666666, 'gini = 0.0\\nsamples = 2\\nvalue = [0, 0, 2, 0]'),\n",
              " Text(0.5393258426966292, 0.5416666666666666, 'gini = 0.0\\nsamples = 1\\nvalue = [1, 0, 0, 0]'),\n",
              " Text(0.6123595505617978, 0.7083333333333334, 'x[9] <= 2.4\\ngini = 0.507\\nsamples = 30\\nvalue = [20, 6, 2, 2]'),\n",
              " Text(0.5842696629213483, 0.625, 'x[3] <= 176.0\\ngini = 0.401\\nsamples = 27\\nvalue = [20, 6, 1, 0]'),\n",
              " Text(0.5617977528089888, 0.5416666666666666, 'x[10] <= 1.5\\ngini = 0.32\\nsamples = 25\\nvalue = [20, 5, 0, 0]'),\n",
              " Text(0.550561797752809, 0.4583333333333333, 'gini = 0.0\\nsamples = 10\\nvalue = [10, 0, 0, 0]'),\n",
              " Text(0.5730337078651685, 0.4583333333333333, 'x[9] <= 1.1\\ngini = 0.444\\nsamples = 15\\nvalue = [10, 5, 0, 0]'),\n",
              " Text(0.5617977528089888, 0.375, 'x[3] <= 124.0\\ngini = 0.5\\nsamples = 10\\nvalue = [5, 5, 0, 0]'),\n",
              " Text(0.5393258426966292, 0.2916666666666667, 'x[9] <= 0.9\\ngini = 0.32\\nsamples = 5\\nvalue = [4, 1, 0, 0]'),\n",
              " Text(0.5280898876404494, 0.20833333333333334, 'gini = 0.0\\nsamples = 4\\nvalue = [4, 0, 0, 0]'),\n",
              " Text(0.550561797752809, 0.20833333333333334, 'gini = 0.0\\nsamples = 1\\nvalue = [0, 1, 0, 0]'),\n",
              " Text(0.5842696629213483, 0.2916666666666667, 'x[4] <= 228.0\\ngini = 0.32\\nsamples = 5\\nvalue = [1, 4, 0, 0]'),\n",
              " Text(0.5730337078651685, 0.20833333333333334, 'x[3] <= 161.0\\ngini = 0.5\\nsamples = 2\\nvalue = [1, 1, 0, 0]'),\n",
              " Text(0.5617977528089888, 0.125, 'gini = 0.0\\nsamples = 1\\nvalue = [0, 1, 0, 0]'),\n",
              " Text(0.5842696629213483, 0.125, 'gini = 0.0\\nsamples = 1\\nvalue = [1, 0, 0, 0]'),\n",
              " Text(0.5955056179775281, 0.20833333333333334, 'gini = 0.0\\nsamples = 3\\nvalue = [0, 3, 0, 0]'),\n",
              " Text(0.5842696629213483, 0.375, 'gini = 0.0\\nsamples = 5\\nvalue = [5, 0, 0, 0]'),\n",
              " Text(0.6067415730337079, 0.5416666666666666, 'x[4] <= 278.5\\ngini = 0.5\\nsamples = 2\\nvalue = [0, 1, 1, 0]'),\n",
              " Text(0.5955056179775281, 0.4583333333333333, 'gini = 0.0\\nsamples = 1\\nvalue = [0, 0, 1, 0]'),\n",
              " Text(0.6179775280898876, 0.4583333333333333, 'gini = 0.0\\nsamples = 1\\nvalue = [0, 1, 0, 0]'),\n",
              " Text(0.6404494382022472, 0.625, 'x[11] <= 1.5\\ngini = 0.444\\nsamples = 3\\nvalue = [0, 0, 1, 2]'),\n",
              " Text(0.6292134831460674, 0.5416666666666666, 'gini = 0.0\\nsamples = 2\\nvalue = [0, 0, 0, 2]'),\n",
              " Text(0.651685393258427, 0.5416666666666666, 'gini = 0.0\\nsamples = 1\\nvalue = [0, 0, 1, 0]'),\n",
              " Text(0.8033707865168539, 0.7916666666666666, 'x[7] <= 134.5\\ngini = 0.633\\nsamples = 78\\nvalue = [10, 41, 20, 7]'),\n",
              " Text(0.6797752808988764, 0.7083333333333334, 'x[9] <= 0.4\\ngini = 0.681\\nsamples = 33\\nvalue = [3, 12, 13, 5]'),\n",
              " Text(0.6685393258426966, 0.625, 'gini = 0.0\\nsamples = 2\\nvalue = [2, 0, 0, 0]'),\n",
              " Text(0.6910112359550562, 0.625, 'x[9] <= 2.9\\ngini = 0.647\\nsamples = 31\\nvalue = [1, 12, 13, 5]'),\n",
              " Text(0.6797752808988764, 0.5416666666666666, 'x[4] <= 214.0\\ngini = 0.656\\nsamples = 27\\nvalue = [1, 12, 9, 5]'),\n",
              " Text(0.6404494382022472, 0.4583333333333333, 'x[0] <= 58.5\\ngini = 0.667\\nsamples = 9\\nvalue = [1, 1, 4, 3]'),\n",
              " Text(0.6292134831460674, 0.375, 'x[3] <= 115.0\\ngini = 0.5\\nsamples = 6\\nvalue = [1, 1, 4, 0]'),\n",
              " Text(0.6179775280898876, 0.2916666666666667, 'gini = 0.0\\nsamples = 1\\nvalue = [1, 0, 0, 0]'),\n",
              " Text(0.6404494382022472, 0.2916666666666667, 'x[0] <= 39.0\\ngini = 0.32\\nsamples = 5\\nvalue = [0, 1, 4, 0]'),\n",
              " Text(0.6292134831460674, 0.20833333333333334, 'gini = 0.0\\nsamples = 1\\nvalue = [0, 1, 0, 0]'),\n",
              " Text(0.651685393258427, 0.20833333333333334, 'gini = 0.0\\nsamples = 4\\nvalue = [0, 0, 4, 0]'),\n",
              " Text(0.651685393258427, 0.375, 'gini = 0.0\\nsamples = 3\\nvalue = [0, 0, 0, 3]'),\n",
              " Text(0.7191011235955056, 0.4583333333333333, 'x[7] <= 131.5\\ngini = 0.537\\nsamples = 18\\nvalue = [0, 11, 5, 2]'),\n",
              " Text(0.7078651685393258, 0.375, 'x[9] <= 1.1\\ngini = 0.477\\nsamples = 16\\nvalue = [0, 11, 3, 2]'),\n",
              " Text(0.6853932584269663, 0.2916666666666667, 'x[11] <= 2.0\\ngini = 0.625\\nsamples = 4\\nvalue = [0, 1, 1, 2]'),\n",
              " Text(0.6741573033707865, 0.20833333333333334, 'x[0] <= 57.5\\ngini = 0.5\\nsamples = 2\\nvalue = [0, 1, 1, 0]'),\n",
              " Text(0.6629213483146067, 0.125, 'gini = 0.0\\nsamples = 1\\nvalue = [0, 1, 0, 0]'),\n",
              " Text(0.6853932584269663, 0.125, 'gini = 0.0\\nsamples = 1\\nvalue = [0, 0, 1, 0]'),\n",
              " Text(0.6966292134831461, 0.20833333333333334, 'gini = 0.0\\nsamples = 2\\nvalue = [0, 0, 0, 2]'),\n",
              " Text(0.7303370786516854, 0.2916666666666667, 'x[3] <= 115.0\\ngini = 0.278\\nsamples = 12\\nvalue = [0, 10, 2, 0]'),\n",
              " Text(0.7191011235955056, 0.20833333333333334, 'gini = 0.0\\nsamples = 1\\nvalue = [0, 0, 1, 0]'),\n",
              " Text(0.7415730337078652, 0.20833333333333334, 'x[7] <= 97.0\\ngini = 0.165\\nsamples = 11\\nvalue = [0, 10, 1, 0]'),\n",
              " Text(0.7303370786516854, 0.125, 'x[4] <= 278.0\\ngini = 0.5\\nsamples = 2\\nvalue = [0, 1, 1, 0]'),\n",
              " Text(0.7191011235955056, 0.041666666666666664, 'gini = 0.0\\nsamples = 1\\nvalue = [0, 1, 0, 0]'),\n",
              " Text(0.7415730337078652, 0.041666666666666664, 'gini = 0.0\\nsamples = 1\\nvalue = [0, 0, 1, 0]'),\n",
              " Text(0.7528089887640449, 0.125, 'gini = 0.0\\nsamples = 9\\nvalue = [0, 9, 0, 0]'),\n",
              " Text(0.7303370786516854, 0.375, 'gini = 0.0\\nsamples = 2\\nvalue = [0, 0, 2, 0]'),\n",
              " Text(0.702247191011236, 0.5416666666666666, 'gini = 0.0\\nsamples = 4\\nvalue = [0, 0, 4, 0]'),\n",
              " Text(0.9269662921348315, 0.7083333333333334, 'x[11] <= 2.5\\ngini = 0.534\\nsamples = 45\\nvalue = [7, 29, 7, 2]'),\n",
              " Text(0.8876404494382022, 0.625, 'x[8] <= 0.5\\ngini = 0.463\\nsamples = 41\\nvalue = [6, 29, 5, 1]'),\n",
              " Text(0.8426966292134831, 0.5416666666666666, 'x[11] <= 0.5\\ngini = 0.609\\nsamples = 19\\nvalue = [5, 10, 4, 0]'),\n",
              " Text(0.8202247191011236, 0.4583333333333333, 'x[0] <= 51.5\\ngini = 0.568\\nsamples = 9\\nvalue = [5, 3, 1, 0]'),\n",
              " Text(0.8089887640449438, 0.375, 'x[10] <= 1.5\\ngini = 0.56\\nsamples = 5\\nvalue = [1, 3, 1, 0]'),\n",
              " Text(0.797752808988764, 0.2916666666666667, 'x[4] <= 217.0\\ngini = 0.375\\nsamples = 4\\nvalue = [1, 3, 0, 0]'),\n",
              " Text(0.7865168539325843, 0.20833333333333334, 'x[4] <= 191.5\\ngini = 0.5\\nsamples = 2\\nvalue = [1, 1, 0, 0]'),\n",
              " Text(0.7752808988764045, 0.125, 'gini = 0.0\\nsamples = 1\\nvalue = [0, 1, 0, 0]'),\n",
              " Text(0.797752808988764, 0.125, 'gini = 0.0\\nsamples = 1\\nvalue = [1, 0, 0, 0]'),\n",
              " Text(0.8089887640449438, 0.20833333333333334, 'gini = 0.0\\nsamples = 2\\nvalue = [0, 2, 0, 0]'),\n",
              " Text(0.8202247191011236, 0.2916666666666667, 'gini = 0.0\\nsamples = 1\\nvalue = [0, 0, 1, 0]'),\n",
              " Text(0.8314606741573034, 0.375, 'gini = 0.0\\nsamples = 4\\nvalue = [4, 0, 0, 0]'),\n",
              " Text(0.8651685393258427, 0.4583333333333333, 'x[3] <= 149.0\\ngini = 0.42\\nsamples = 10\\nvalue = [0, 7, 3, 0]'),\n",
              " Text(0.8539325842696629, 0.375, 'x[0] <= 55.0\\ngini = 0.346\\nsamples = 9\\nvalue = [0, 7, 2, 0]'),\n",
              " Text(0.8426966292134831, 0.2916666666666667, 'gini = 0.0\\nsamples = 1\\nvalue = [0, 0, 1, 0]'),\n",
              " Text(0.8651685393258427, 0.2916666666666667, 'x[0] <= 66.0\\ngini = 0.219\\nsamples = 8\\nvalue = [0, 7, 1, 0]'),\n",
              " Text(0.8539325842696629, 0.20833333333333334, 'gini = 0.0\\nsamples = 6\\nvalue = [0, 6, 0, 0]'),\n",
              " Text(0.8764044943820225, 0.20833333333333334, 'x[7] <= 152.0\\ngini = 0.5\\nsamples = 2\\nvalue = [0, 1, 1, 0]'),\n",
              " Text(0.8651685393258427, 0.125, 'gini = 0.0\\nsamples = 1\\nvalue = [0, 1, 0, 0]'),\n",
              " Text(0.8876404494382022, 0.125, 'gini = 0.0\\nsamples = 1\\nvalue = [0, 0, 1, 0]'),\n",
              " Text(0.8764044943820225, 0.375, 'gini = 0.0\\nsamples = 1\\nvalue = [0, 0, 1, 0]'),\n",
              " Text(0.9325842696629213, 0.5416666666666666, 'x[9] <= 0.9\\ngini = 0.248\\nsamples = 22\\nvalue = [1, 19, 1, 1]'),\n",
              " Text(0.9213483146067416, 0.4583333333333333, 'x[7] <= 153.0\\ngini = 0.667\\nsamples = 6\\nvalue = [1, 3, 1, 1]'),\n",
              " Text(0.898876404494382, 0.375, 'x[4] <= 272.5\\ngini = 0.5\\nsamples = 2\\nvalue = [0, 0, 1, 1]'),\n",
              " Text(0.8876404494382022, 0.2916666666666667, 'gini = 0.0\\nsamples = 1\\nvalue = [0, 0, 1, 0]'),\n",
              " Text(0.9101123595505618, 0.2916666666666667, 'gini = 0.0\\nsamples = 1\\nvalue = [0, 0, 0, 1]'),\n",
              " Text(0.9438202247191011, 0.375, 'x[7] <= 165.0\\ngini = 0.375\\nsamples = 4\\nvalue = [1, 3, 0, 0]'),\n",
              " Text(0.9325842696629213, 0.2916666666666667, 'gini = 0.0\\nsamples = 3\\nvalue = [0, 3, 0, 0]'),\n",
              " Text(0.9550561797752809, 0.2916666666666667, 'gini = 0.0\\nsamples = 1\\nvalue = [1, 0, 0, 0]'),\n",
              " Text(0.9438202247191011, 0.4583333333333333, 'gini = 0.0\\nsamples = 16\\nvalue = [0, 16, 0, 0]'),\n",
              " Text(0.9662921348314607, 0.625, 'x[3] <= 125.0\\ngini = 0.625\\nsamples = 4\\nvalue = [1, 0, 2, 1]'),\n",
              " Text(0.9550561797752809, 0.5416666666666666, 'gini = 0.0\\nsamples = 1\\nvalue = [1, 0, 0, 0]'),\n",
              " Text(0.9775280898876404, 0.5416666666666666, 'x[0] <= 62.5\\ngini = 0.444\\nsamples = 3\\nvalue = [0, 0, 2, 1]'),\n",
              " Text(0.9662921348314607, 0.4583333333333333, 'gini = 0.0\\nsamples = 2\\nvalue = [0, 0, 2, 0]'),\n",
              " Text(0.9887640449438202, 0.4583333333333333, 'gini = 0.0\\nsamples = 1\\nvalue = [0, 0, 0, 1]')]"
            ]
          },
          "metadata": {},
          "execution_count": 57
        },
        {
          "output_type": "display_data",
          "data": {
            "text/plain": [
              "<Figure size 640x480 with 1 Axes>"
            ],
            "image/png": "[encoded data removed]"
          },
          "metadata": {}
        }
      ]
    },
    {
      "cell_type": "code",
      "source": [
        "decisionTreeAcc = decisionTree.score(X_test, y_test)\n",
        "print(f'accuracy - : {decisionTreeAcc:.3f}')"
      ],
      "metadata": {
        "colab": {
          "base_uri": "https://localhost:8080/"
        },
        "id": "IaTNL99kiW2z",
        "outputId": "27d3c81f-5bfc-4095-89ce-0b93af9f1717"
      },
      "execution_count": 58,
      "outputs": [
        {
          "output_type": "stream",
          "name": "stdout",
          "text": [
            "accuracy - : 0.467\n"
          ]
        }
      ]
    },
    {
      "cell_type": "markdown",
      "source": [
        "#Neural netowrks\n"
      ],
      "metadata": {
        "id": "OikTVL2V6wWt"
      }
    },
    {
      "cell_type": "code",
      "source": [
        "#Data\n",
        "X_train, X_test, y_train, y_test = train_test_split(features, classification, test_size=0.1, random_state=42)"
      ],
      "metadata": {
        "id": "igWxnetb661v"
      },
      "execution_count": 59,
      "outputs": []
    },
    {
      "cell_type": "code",
      "source": [
        "#Building the model\n",
        "model = Sequential([\n",
        "    Flatten(),\n",
        "    Dense(256, activation='sigmoid'),\n",
        "    Dropout(0.2),\n",
        "    Dense(32, activation='sigmoid'),\n",
        "    Dropout(0.2),\n",
        "    Dense(1, activation='sigmoid'),\n",
        "])\n",
        "\n",
        "model.compile(optimizer='adam', loss='binary_crossentropy', metrics=['accuracy'])"
      ],
      "metadata": {
        "id": "x1yISzQq6v09"
      },
      "execution_count": 64,
      "outputs": []
    },
    {
      "cell_type": "code",
      "source": [
        "history = model.fit(X_train, y_train, epochs=30, batch_size=8, validation_data=(X_test, y_test))"
      ],
      "metadata": {
        "colab": {
          "base_uri": "https://localhost:8080/"
        },
        "id": "l_IAhcC_7hjH",
        "outputId": "0b349669-d5b5-47c9-da3e-f4ebb6180c2c"
      },
      "execution_count": 65,
      "outputs": [
        {
          "output_type": "stream",
          "name": "stdout",
          "text": [
            "Epoch 1/30\n",
            "34/34 [==============================] - 1s 9ms/step - loss: 0.3922 - accuracy: 0.3109 - val_loss: 0.7409 - val_accuracy: 0.2667\n",
            "Epoch 2/30\n",
            "34/34 [==============================] - 0s 4ms/step - loss: 0.2359 - accuracy: 0.3034 - val_loss: 0.7437 - val_accuracy: 0.2667\n",
            "Epoch 3/30\n",
            "34/34 [==============================] - 0s 4ms/step - loss: 0.2003 - accuracy: 0.3633 - val_loss: 0.7458 - val_accuracy: 0.2667\n",
            "Epoch 4/30\n",
            "34/34 [==============================] - 0s 4ms/step - loss: 0.0671 - accuracy: 0.3371 - val_loss: 0.7271 - val_accuracy: 0.3000\n",
            "Epoch 5/30\n",
            "34/34 [==============================] - 0s 3ms/step - loss: -0.0519 - accuracy: 0.3783 - val_loss: 0.7373 - val_accuracy: 0.3000\n",
            "Epoch 6/30\n",
            "34/34 [==============================] - 0s 4ms/step - loss: -0.2678 - accuracy: 0.3858 - val_loss: 0.6431 - val_accuracy: 0.6667\n",
            "Epoch 7/30\n",
            "34/34 [==============================] - 0s 3ms/step - loss: -0.1620 - accuracy: 0.4532 - val_loss: 0.6593 - val_accuracy: 0.5000\n",
            "Epoch 8/30\n",
            "34/34 [==============================] - 0s 3ms/step - loss: -0.3690 - accuracy: 0.4607 - val_loss: 0.5983 - val_accuracy: 0.6667\n",
            "Epoch 9/30\n",
            "34/34 [==============================] - 0s 4ms/step - loss: -0.4313 - accuracy: 0.4869 - val_loss: 0.7577 - val_accuracy: 0.4333\n",
            "Epoch 10/30\n",
            "34/34 [==============================] - 0s 5ms/step - loss: -0.3598 - accuracy: 0.4794 - val_loss: 0.5888 - val_accuracy: 0.6000\n",
            "Epoch 11/30\n",
            "34/34 [==============================] - 0s 5ms/step - loss: -0.4839 - accuracy: 0.4569 - val_loss: 0.5868 - val_accuracy: 0.5667\n",
            "Epoch 12/30\n",
            "34/34 [==============================] - 0s 5ms/step - loss: -0.6461 - accuracy: 0.5094 - val_loss: 0.5771 - val_accuracy: 0.5667\n",
            "Epoch 13/30\n",
            "34/34 [==============================] - 0s 5ms/step - loss: -0.6141 - accuracy: 0.4794 - val_loss: 0.5166 - val_accuracy: 0.5667\n",
            "Epoch 14/30\n",
            "34/34 [==============================] - 0s 4ms/step - loss: -0.8177 - accuracy: 0.5169 - val_loss: 0.5621 - val_accuracy: 0.6667\n",
            "Epoch 15/30\n",
            "34/34 [==============================] - 0s 4ms/step - loss: -0.9050 - accuracy: 0.5431 - val_loss: 0.6649 - val_accuracy: 0.5000\n",
            "Epoch 16/30\n",
            "34/34 [==============================] - 0s 4ms/step - loss: -1.0080 - accuracy: 0.5506 - val_loss: 0.5259 - val_accuracy: 0.5000\n",
            "Epoch 17/30\n",
            "34/34 [==============================] - 0s 4ms/step - loss: -0.9684 - accuracy: 0.5206 - val_loss: 0.4778 - val_accuracy: 0.6333\n",
            "Epoch 18/30\n",
            "34/34 [==============================] - 0s 4ms/step - loss: -1.0034 - accuracy: 0.5243 - val_loss: 0.3087 - val_accuracy: 0.7000\n",
            "Epoch 19/30\n",
            "34/34 [==============================] - 0s 5ms/step - loss: -1.1470 - accuracy: 0.5356 - val_loss: 0.3517 - val_accuracy: 0.7667\n",
            "Epoch 20/30\n",
            "34/34 [==============================] - 0s 5ms/step - loss: -1.2725 - accuracy: 0.5581 - val_loss: 0.3844 - val_accuracy: 0.7333\n",
            "Epoch 21/30\n",
            "34/34 [==============================] - 0s 4ms/step - loss: -1.3759 - accuracy: 0.5318 - val_loss: 0.4684 - val_accuracy: 0.7000\n",
            "Epoch 22/30\n",
            "34/34 [==============================] - 0s 5ms/step - loss: -1.4707 - accuracy: 0.5618 - val_loss: 0.2809 - val_accuracy: 0.6667\n",
            "Epoch 23/30\n",
            "34/34 [==============================] - 0s 4ms/step - loss: -1.5885 - accuracy: 0.5618 - val_loss: 0.2728 - val_accuracy: 0.6667\n",
            "Epoch 24/30\n",
            "34/34 [==============================] - 0s 5ms/step - loss: -1.6724 - accuracy: 0.5880 - val_loss: 0.2712 - val_accuracy: 0.6667\n",
            "Epoch 25/30\n",
            "34/34 [==============================] - 0s 4ms/step - loss: -1.7291 - accuracy: 0.5843 - val_loss: 0.6080 - val_accuracy: 0.5000\n",
            "Epoch 26/30\n",
            "34/34 [==============================] - 0s 5ms/step - loss: -1.9314 - accuracy: 0.5618 - val_loss: 0.2049 - val_accuracy: 0.7667\n",
            "Epoch 27/30\n",
            "34/34 [==============================] - 0s 5ms/step - loss: -1.7766 - accuracy: 0.5318 - val_loss: 0.5781 - val_accuracy: 0.7333\n",
            "Epoch 28/30\n",
            "34/34 [==============================] - 0s 5ms/step - loss: -1.7758 - accuracy: 0.5431 - val_loss: 0.1914 - val_accuracy: 0.8000\n",
            "Epoch 29/30\n",
            "34/34 [==============================] - 0s 4ms/step - loss: -2.0861 - accuracy: 0.5730 - val_loss: 0.0554 - val_accuracy: 0.7667\n",
            "Epoch 30/30\n",
            "34/34 [==============================] - 0s 4ms/step - loss: -2.1522 - accuracy: 0.5805 - val_loss: 0.0050 - val_accuracy: 0.6667\n"
          ]
        }
      ]
    }
  ]
}